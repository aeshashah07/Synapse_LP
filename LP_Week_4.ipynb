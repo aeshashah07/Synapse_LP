{
  "nbformat": 4,
  "nbformat_minor": 0,
  "metadata": {
    "colab": {
      "provenance": [],
      "collapsed_sections": []
    },
    "kernelspec": {
      "name": "python3",
      "display_name": "Python 3"
    },
    "language_info": {
      "name": "python"
    }
  },
  "cells": [
    {
      "cell_type": "markdown",
      "source": [
        "# **Task 4**\n",
        "\n",
        "## **DJS Synapse Learning Period**\n",
        "![image.png](data:image/png;base64,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)"
      ],
      "metadata": {
        "id": "MBQz5ZKhghSd"
      }
    },
    {
      "cell_type": "markdown",
      "source": [
        "**Unsupervised Learning**\n",
        "\n",
        "In this task, we will explore data dimensionality reduction and different  clustering methods.\n",
        "\n",
        "We will work with the **Samsung Human Activity Recognition dataset**. The data comes from the accelerometers and gyros of Samsung mobile phones, the type of activity of a person with a phone in his pocket is also known - whether he walked, stood, lay, sat or walked up or down the stairs.\n",
        "\n",
        "We imagine that the type of activity is unknown to us (unlabelled), and we will try to cluster people purely on the basis of available features."
      ],
      "metadata": {
        "id": "BrMOt2M-gmBC"
      }
    },
    {
      "cell_type": "markdown",
      "source": [
        "# **Imports and Data loading**"
      ],
      "metadata": {
        "id": "uz7JdTs3Z3Dj"
      }
    },
    {
      "cell_type": "markdown",
      "source": [
        "Import some basic modules like numpy, pandas, seaborn, tqdm_notebook & matplotlib.pyplot"
      ],
      "metadata": {
        "id": "_UZuWaejPdak"
      }
    },
    {
      "cell_type": "code",
      "source": [
        "import numpy as np\n",
        "import pandas as pd\n",
        "import seaborn as sns\n",
        "import matplotlib.pyplot as plt"
      ],
      "metadata": {
        "id": "9gELzGeQP9H2"
      },
      "execution_count": 35,
      "outputs": []
    },
    {
      "cell_type": "markdown",
      "source": [
        "Mount your google drive"
      ],
      "metadata": {
        "id": "cFD1y3-5P5WU"
      }
    },
    {
      "cell_type": "code",
      "source": [
        "from google.colab import drive\n",
        "drive.mount('/content/drive')"
      ],
      "metadata": {
        "colab": {
          "base_uri": "https://localhost:8080/"
        },
        "id": "ytSGXthjCt2e",
        "outputId": "741bcaba-de1d-4ca4-f80a-94a76c8d64e6"
      },
      "execution_count": 36,
      "outputs": [
        {
          "output_type": "stream",
          "name": "stdout",
          "text": [
            "Drive already mounted at /content/drive; to attempt to forcibly remount, call drive.mount(\"/content/drive\", force_remount=True).\n"
          ]
        }
      ]
    },
    {
      "cell_type": "markdown",
      "source": [
        "Mention the path of dataset, 4 paths for the 4 different txt files."
      ],
      "metadata": {
        "id": "b839AteLQBDr"
      }
    },
    {
      "cell_type": "code",
      "source": [
        "samsung_train_path = \"/content/drive/MyDrive/synapse_w4/samsung_train.txt\"\n",
        "samsung_train_labels_path = \"/content/drive/MyDrive/synapse_w4/samsung_train_labels.txt\"\n",
        "\n",
        "samsung_test_path = \"/content/drive/MyDrive/synapse_w4/samsung_test.txt\"\n",
        "samsung_test_labels_path = \"/content/drive/MyDrive/synapse_w4/samsung_test_labels.txt\""
      ],
      "metadata": {
        "id": "qrTbJ3CjQHSh"
      },
      "execution_count": 37,
      "outputs": []
    },
    {
      "cell_type": "markdown",
      "source": [
        "This time we will be using np.loadtxt() for reading our data. Code for the same has been given (do not modify), but we expect you to understand the working of it.\n",
        "\n",
        "Ref.: https://www.geeksforgeeks.org/numpy-loadtxt-in-python/"
      ],
      "metadata": {
        "id": "15-B6CuRQjXD"
      }
    },
    {
      "cell_type": "code",
      "source": [
        "X_train = np.loadtxt(samsung_train_path)\n",
        "y_train = np.loadtxt(samsung_train_labels_path).astype(int)\n",
        "\n",
        "X_test = np.loadtxt(samsung_test_path)\n",
        "y_test = np.loadtxt(samsung_test_labels_path).astype(int)"
      ],
      "metadata": {
        "id": "9Zi1udDJQh8j"
      },
      "execution_count": 38,
      "outputs": []
    },
    {
      "cell_type": "markdown",
      "source": [
        "Just to confirm that your data has been loaded properly, execute the below cell. You won't receive any error if everything is correct.\n",
        "\n",
        "NOTE: If you get an Assertion error, then you probably did something wrong above."
      ],
      "metadata": {
        "id": "plA5hpftRMRC"
      }
    },
    {
      "cell_type": "code",
      "source": [
        "# Checking dimensions\n",
        "assert(X_train.shape == (7352, 561) and y_train.shape == (7352,))\n",
        "assert(X_test.shape == (2947, 561) and y_test.shape == (2947,))"
      ],
      "metadata": {
        "id": "WvSJb1_aRpA-"
      },
      "execution_count": 39,
      "outputs": []
    },
    {
      "cell_type": "markdown",
      "source": [
        "# **Pre-processing**"
      ],
      "metadata": {
        "id": "ADK9DkH5Zuzd"
      }
    },
    {
      "cell_type": "markdown",
      "source": [
        "For clustering, we do not need a target vector, so we'll work with the combination of training and test samples. Merge *X_train* with *X_test*, and *y_train* with *y_test*.\n",
        "\n",
        "Hint: \n",
        "1. Merge X_train and X_test into X {use [np.vstack()](https://numpy.org/doc/stable/reference/generated/numpy.vstack.html)}\n",
        "2. Merge y_train and y_test into y {use [np.hstack()](https://numpy.org/doc/stable/reference/generated/numpy.hstack.html)}"
      ],
      "metadata": {
        "id": "v_MDGeiORyQW"
      }
    },
    {
      "cell_type": "code",
      "source": [
        "X = np.vstack((X_train, X_test))\n",
        "y = np.hstack((y_train, y_test))"
      ],
      "metadata": {
        "id": "Va97TqkyR8x4"
      },
      "execution_count": 40,
      "outputs": []
    },
    {
      "cell_type": "markdown",
      "source": [
        "Using numpy, print the unique values of the labels of the target class (i.e. \"y\").\n",
        "\n",
        "Ref.: https://www.geeksforgeeks.org/python-numpy-np-unique-method/\n"
      ],
      "metadata": {
        "id": "hMgj52ymSoVX"
      }
    },
    {
      "cell_type": "code",
      "source": [
        "unique = np.unique(y)\n",
        "unique"
      ],
      "metadata": {
        "id": "M7lVZbEDTQNJ",
        "colab": {
          "base_uri": "https://localhost:8080/"
        },
        "outputId": "112cefbf-7808-4187-d26e-5a676904bc8b"
      },
      "execution_count": 41,
      "outputs": [
        {
          "output_type": "execute_result",
          "data": {
            "text/plain": [
              "array([1, 2, 3, 4, 5, 6])"
            ]
          },
          "metadata": {},
          "execution_count": 41
        }
      ]
    },
    {
      "cell_type": "markdown",
      "source": [
        "Store the size (or number) of unique values of the labels of the target class (i.e. \"y\") in a variable named n_classes."
      ],
      "metadata": {
        "id": "ob_G2AriTVN0"
      }
    },
    {
      "cell_type": "code",
      "source": [
        "n_classes = len(unique)\n",
        "n_classes"
      ],
      "metadata": {
        "id": "8qGy5nHoTqeM",
        "colab": {
          "base_uri": "https://localhost:8080/"
        },
        "outputId": "6ca5c4c0-8ba4-49af-b903-bc7060253f0a"
      },
      "execution_count": 42,
      "outputs": [
        {
          "output_type": "execute_result",
          "data": {
            "text/plain": [
              "6"
            ]
          },
          "metadata": {},
          "execution_count": 42
        }
      ]
    },
    {
      "cell_type": "markdown",
      "source": [
        "Here the 6 labels (or classes) correspond to:\n",
        "- 1 - walking\n",
        "- 2 - going up the stairs\n",
        "- 3 - going down the stairs\n",
        "- 4 - sitting\n",
        "- 5 - standing\n",
        "- 6 - lying down\n",
        "\n",
        "So we wish to create 6 clusters where each cluster can represent one of the above activities."
      ],
      "metadata": {
        "id": "-6HZf8f4UNHO"
      }
    },
    {
      "cell_type": "markdown",
      "source": [
        "Scale the sample (i.e. X) using [`StandardScaler()`](https://www.digitalocean.com/community/tutorials/standardscaler-function-in-python)"
      ],
      "metadata": {
        "id": "9WPLZKLBUSzQ"
      }
    },
    {
      "cell_type": "code",
      "source": [
        "from sklearn.preprocessing import StandardScaler\n",
        "\n",
        "scaler = StandardScaler()\n",
        "X_scaled = scaler.fit_transform(X)"
      ],
      "metadata": {
        "id": "FTToQBJuUoTC"
      },
      "execution_count": 43,
      "outputs": []
    },
    {
      "cell_type": "markdown",
      "source": [
        "# **Dimensionality Reduction using PCA**"
      ],
      "metadata": {
        "id": "Bz8VXWqwVCsm"
      }
    },
    {
      "cell_type": "markdown",
      "source": [
        "Ref.: https://scikit-learn.org/stable/modules/generated/sklearn.decomposition.PCA.html"
      ],
      "metadata": {
        "id": "hGbxzKQqwHAN"
      }
    },
    {
      "cell_type": "code",
      "source": [
        "from sklearn.decomposition import PCA"
      ],
      "metadata": {
        "id": "lOcq3tfr40pF"
      },
      "execution_count": 44,
      "outputs": []
    },
    {
      "cell_type": "markdown",
      "source": [
        "Reduce the number of dimensions using PCA, \n",
        "\n",
        "Hints:\n",
        "1. Initialise instance of PCA and set *n_components* to 0.9 and *random_state* to 17.\n",
        "2. Fit X_scaled over the PCA instance created\n",
        "3. Transform X_scaled over the fitted PCA instance and store it in a variable named X_pca.\n",
        "\n",
        "Theory: https://towardsdatascience.com/dimensionality-reduction-explained-5ae45ae3058e\n",
        "\n",
        "Theory + Implementation.: https://youtu.be/OFyyWcw2cyM (Jump to timestamp - 13:50 for PCA implementaion)"
      ],
      "metadata": {
        "id": "h5z2fN3caBUP"
      }
    },
    {
      "cell_type": "code",
      "source": [
        "pca = PCA(n_components = 0.9, random_state = 17)\n",
        "\n",
        "pca.fit(X_scaled)\n",
        "X_pca = pca.transform(X_scaled)"
      ],
      "metadata": {
        "id": "7TDsihjxqx-Q"
      },
      "execution_count": 45,
      "outputs": []
    },
    {
      "cell_type": "markdown",
      "source": [
        "Let's check the shape of X_pca."
      ],
      "metadata": {
        "id": "BX98d0adV8U8"
      }
    },
    {
      "cell_type": "code",
      "source": [
        "X_scaled.shape"
      ],
      "metadata": {
        "colab": {
          "base_uri": "https://localhost:8080/"
        },
        "id": "pn69kYgisLxL",
        "outputId": "78a6aa92-a800-43c6-e21d-c45625d6d8a6"
      },
      "execution_count": 46,
      "outputs": [
        {
          "output_type": "execute_result",
          "data": {
            "text/plain": [
              "(10299, 561)"
            ]
          },
          "metadata": {},
          "execution_count": 46
        }
      ]
    },
    {
      "cell_type": "code",
      "source": [
        "X_pca.shape"
      ],
      "metadata": {
        "id": "00cwC1hxXMZy",
        "colab": {
          "base_uri": "https://localhost:8080/"
        },
        "outputId": "736dccf2-3a8d-4e1b-a6b7-e1e37304cb99"
      },
      "execution_count": 47,
      "outputs": [
        {
          "output_type": "execute_result",
          "data": {
            "text/plain": [
              "(10299, 65)"
            ]
          },
          "metadata": {},
          "execution_count": 47
        }
      ]
    },
    {
      "cell_type": "markdown",
      "source": [
        "Shape of X was (10299, 561) i.e 561 dimensions\n",
        "\n",
        "Shape of X_pca is (10299, 65) i.e. 65 dimenisons\n",
        "\n",
        "Hence we have successfully reduced dimensions using PCA."
      ],
      "metadata": {
        "id": "6MBugssm6HkA"
      }
    },
    {
      "cell_type": "markdown",
      "source": [
        "# **K-Means (Partition based clustering)**"
      ],
      "metadata": {
        "id": "toI3kZ3ZaJOy"
      }
    },
    {
      "cell_type": "markdown",
      "source": [
        "Run the data clustering using the `KMeans` method, training the model on data with a reduced PCA dimension (i.e. X_pca). In this case, we will give a clue to look for exactly 6 clusters, but in general case we will not know how many clusters we should be searching.\n",
        "\n",
        "Parameters for KMeans:\n",
        "\n",
        "- **n_clusters** = n_classes (number of unique labels of the target class (i.e. 6))\n",
        "- **n_init** = 100\n",
        "- **random_state** = 17 (for the reproducibility of the result)\n",
        "\n",
        "Other parameters should have default values."
      ],
      "metadata": {
        "id": "wpGrrsuraNCU"
      }
    },
    {
      "cell_type": "code",
      "source": [
        "from sklearn.cluster import KMeans"
      ],
      "metadata": {
        "id": "3Axm0thg6klA"
      },
      "execution_count": 48,
      "outputs": []
    },
    {
      "cell_type": "code",
      "source": [
        "kmeans = KMeans(n_clusters = n_classes, n_init= 100, random_state= 17)"
      ],
      "metadata": {
        "id": "BQgkKo7PaisB"
      },
      "execution_count": 49,
      "outputs": []
    },
    {
      "cell_type": "code",
      "source": [
        "kmeans.fit(X_pca)"
      ],
      "metadata": {
        "id": "Pc_OBUqRavdv",
        "colab": {
          "base_uri": "https://localhost:8080/"
        },
        "outputId": "16cabd8a-b9f0-46fd-e0bc-9df5661f8ead"
      },
      "execution_count": 50,
      "outputs": [
        {
          "output_type": "execute_result",
          "data": {
            "text/plain": [
              "KMeans(n_clusters=6, n_init=100, random_state=17)"
            ]
          },
          "metadata": {},
          "execution_count": 50
        }
      ]
    },
    {
      "cell_type": "code",
      "source": [
        "cluster_labels = kmeans.labels_"
      ],
      "metadata": {
        "id": "KIiUaneca1Q6"
      },
      "execution_count": 51,
      "outputs": []
    },
    {
      "cell_type": "markdown",
      "source": [
        "Major use of PCA is for visualization. So, let's visualize the 6 clusters using a scatter plot"
      ],
      "metadata": {
        "id": "XmPqoyRdbbDh"
      }
    },
    {
      "cell_type": "code",
      "source": [
        "plt.figure(figsize = (10, 7))\n",
        "plt.scatter(X_pca[:, 0], X_pca[:, 1], c=cluster_labels, cmap='viridis');"
      ],
      "metadata": {
        "id": "pLMuE0KjbejP",
        "colab": {
          "base_uri": "https://localhost:8080/",
          "height": 428
        },
        "outputId": "a495a124-3fe2-4f6c-b41b-cfcc8441f14b"
      },
      "execution_count": 52,
      "outputs": [
        {
          "output_type": "display_data",
          "data": {
            "text/plain": [
              "<Figure size 720x504 with 1 Axes>"
            ],
            "image/png": "[encoded data removed]"
          },
          "metadata": {
            "needs_background": "light"
          }
        }
      ]
    },
    {
      "cell_type": "markdown",
      "source": [
        "Now look at the correspondence between the cluster marks (i.e. cluster_labels) and the original class labels (i.e. y) and what kinds of activities the KMeans algorithm is confused at.\n",
        "\n",
        "Ref.: [Pandas Crosstab](https://pbpython.com/pandas-crosstab.html)"
      ],
      "metadata": {
        "id": "NwmqRUaxb8nC"
      }
    },
    {
      "cell_type": "code",
      "source": [
        "pd.crosstab(cluster_labels, y, margins=True, margins_name=\"Total\")"
      ],
      "metadata": {
        "id": "8nP1LMHCcoQG",
        "colab": {
          "base_uri": "https://localhost:8080/",
          "height": 300
        },
        "outputId": "53010148-e9e7-4321-fdf3-a332ad33ff93"
      },
      "execution_count": 53,
      "outputs": [
        {
          "output_type": "execute_result",
          "data": {
            "text/plain": [
              "col_0     1     2     3     4     5     6  Total\n",
              "row_0                                           \n",
              "0       903  1241   320     1     0     5   2470\n",
              "1         0     0     0  1235  1344    52   2631\n",
              "2         0     0     0    91     0  1558   1649\n",
              "3        78     5   196     0     0     0    279\n",
              "4       741   296   890     0     0     0   1927\n",
              "5         0     2     0   450   562   329   1343\n",
              "Total  1722  1544  1406  1777  1906  1944  10299"
            ],
            "text/html": [
              "\n",
              "  <div id=\"df-527c1d56-922e-4353-9b0f-151879b116e7\">\n",
              "    <div class=\"colab-df-container\">\n",
              "      <div>\n",
              "<style scoped>\n",
              "    .dataframe tbody tr th:only-of-type {\n",
              "        vertical-align: middle;\n",
              "    }\n",
              "\n",
              "    .dataframe tbody tr th {\n",
              "        vertical-align: top;\n",
              "    }\n",
              "\n",
              "    .dataframe thead th {\n",
              "        text-align: right;\n",
              "    }\n",
              "</style>\n",
              "<table border=\"1\" class=\"dataframe\">\n",
              "  <thead>\n",
              "    <tr style=\"text-align: right;\">\n",
              "      <th>col_0</th>\n",
              "      <th>1</th>\n",
              "      <th>2</th>\n",
              "      <th>3</th>\n",
              "      <th>4</th>\n",
              "      <th>5</th>\n",
              "      <th>6</th>\n",
              "      <th>Total</th>\n",
              "    </tr>\n",
              "    <tr>\n",
              "      <th>row_0</th>\n",
              "      <th></th>\n",
              "      <th></th>\n",
              "      <th></th>\n",
              "      <th></th>\n",
              "      <th></th>\n",
              "      <th></th>\n",
              "      <th></th>\n",
              "    </tr>\n",
              "  </thead>\n",
              "  <tbody>\n",
              "    <tr>\n",
              "      <th>0</th>\n",
              "      <td>903</td>\n",
              "      <td>1241</td>\n",
              "      <td>320</td>\n",
              "      <td>1</td>\n",
              "      <td>0</td>\n",
              "      <td>5</td>\n",
              "      <td>2470</td>\n",
              "    </tr>\n",
              "    <tr>\n",
              "      <th>1</th>\n",
              "      <td>0</td>\n",
              "      <td>0</td>\n",
              "      <td>0</td>\n",
              "      <td>1235</td>\n",
              "      <td>1344</td>\n",
              "      <td>52</td>\n",
              "      <td>2631</td>\n",
              "    </tr>\n",
              "    <tr>\n",
              "      <th>2</th>\n",
              "      <td>0</td>\n",
              "      <td>0</td>\n",
              "      <td>0</td>\n",
              "      <td>91</td>\n",
              "      <td>0</td>\n",
              "      <td>1558</td>\n",
              "      <td>1649</td>\n",
              "    </tr>\n",
              "    <tr>\n",
              "      <th>3</th>\n",
              "      <td>78</td>\n",
              "      <td>5</td>\n",
              "      <td>196</td>\n",
              "      <td>0</td>\n",
              "      <td>0</td>\n",
              "      <td>0</td>\n",
              "      <td>279</td>\n",
              "    </tr>\n",
              "    <tr>\n",
              "      <th>4</th>\n",
              "      <td>741</td>\n",
              "      <td>296</td>\n",
              "      <td>890</td>\n",
              "      <td>0</td>\n",
              "      <td>0</td>\n",
              "      <td>0</td>\n",
              "      <td>1927</td>\n",
              "    </tr>\n",
              "    <tr>\n",
              "      <th>5</th>\n",
              "      <td>0</td>\n",
              "      <td>2</td>\n",
              "      <td>0</td>\n",
              "      <td>450</td>\n",
              "      <td>562</td>\n",
              "      <td>329</td>\n",
              "      <td>1343</td>\n",
              "    </tr>\n",
              "    <tr>\n",
              "      <th>Total</th>\n",
              "      <td>1722</td>\n",
              "      <td>1544</td>\n",
              "      <td>1406</td>\n",
              "      <td>1777</td>\n",
              "      <td>1906</td>\n",
              "      <td>1944</td>\n",
              "      <td>10299</td>\n",
              "    </tr>\n",
              "  </tbody>\n",
              "</table>\n",
              "</div>\n",
              "      <button class=\"colab-df-convert\" onclick=\"convertToInteractive('df-527c1d56-922e-4353-9b0f-151879b116e7')\"\n",
              "              title=\"Convert this dataframe to an interactive table.\"\n",
              "              style=\"display:none;\">\n",
              "        \n",
              "  <svg xmlns=\"http://www.w3.org/2000/svg\" height=\"24px\"viewBox=\"0 0 24 24\"\n",
              "       width=\"24px\">\n",
              "    <path d=\"M0 0h24v24H0V0z\" fill=\"none\"/>\n",
              "    <path d=\"M18.56 5.44l.94 2.06.94-2.06 2.06-.94-2.06-.94-.94-2.06-.94 2.06-2.06.94zm-11 1L8.5 8.5l.94-2.06 2.06-.94-2.06-.94L8.5 2.5l-.94 2.06-2.06.94zm10 10l.94 2.06.94-2.06 2.06-.94-2.06-.94-.94-2.06-.94 2.06-2.06.94z\"/><path d=\"M17.41 7.96l-1.37-1.37c-.4-.4-.92-.59-1.43-.59-.52 0-1.04.2-1.43.59L10.3 9.45l-7.72 7.72c-.78.78-.78 2.05 0 2.83L4 21.41c.39.39.9.59 1.41.59.51 0 1.02-.2 1.41-.59l7.78-7.78 2.81-2.81c.8-.78.8-2.07 0-2.86zM5.41 20L4 18.59l7.72-7.72 1.47 1.35L5.41 20z\"/>\n",
              "  </svg>\n",
              "      </button>\n",
              "      \n",
              "  <style>\n",
              "    .colab-df-container {\n",
              "      display:flex;\n",
              "      flex-wrap:wrap;\n",
              "      gap: 12px;\n",
              "    }\n",
              "\n",
              "    .colab-df-convert {\n",
              "      background-color: #E8F0FE;\n",
              "      border: none;\n",
              "      border-radius: 50%;\n",
              "      cursor: pointer;\n",
              "      display: none;\n",
              "      fill: #1967D2;\n",
              "      height: 32px;\n",
              "      padding: 0 0 0 0;\n",
              "      width: 32px;\n",
              "    }\n",
              "\n",
              "    .colab-df-convert:hover {\n",
              "      background-color: #E2EBFA;\n",
              "      box-shadow: 0px 1px 2px rgba(60, 64, 67, 0.3), 0px 1px 3px 1px rgba(60, 64, 67, 0.15);\n",
              "      fill: #174EA6;\n",
              "    }\n",
              "\n",
              "    [theme=dark] .colab-df-convert {\n",
              "      background-color: #3B4455;\n",
              "      fill: #D2E3FC;\n",
              "    }\n",
              "\n",
              "    [theme=dark] .colab-df-convert:hover {\n",
              "      background-color: #434B5C;\n",
              "      box-shadow: 0px 1px 3px 1px rgba(0, 0, 0, 0.15);\n",
              "      filter: drop-shadow(0px 1px 2px rgba(0, 0, 0, 0.3));\n",
              "      fill: #FFFFFF;\n",
              "    }\n",
              "  </style>\n",
              "\n",
              "      <script>\n",
              "        const buttonEl =\n",
              "          document.querySelector('#df-527c1d56-922e-4353-9b0f-151879b116e7 button.colab-df-convert');\n",
              "        buttonEl.style.display =\n",
              "          google.colab.kernel.accessAllowed ? 'block' : 'none';\n",
              "\n",
              "        async function convertToInteractive(key) {\n",
              "          const element = document.querySelector('#df-527c1d56-922e-4353-9b0f-151879b116e7');\n",
              "          const dataTable =\n",
              "            await google.colab.kernel.invokeFunction('convertToInteractive',\n",
              "                                                     [key], {});\n",
              "          if (!dataTable) return;\n",
              "\n",
              "          const docLinkHtml = 'Like what you see? Visit the ' +\n",
              "            '<a target=\"_blank\" href=https://colab.research.google.com/notebooks/data_table.ipynb>data table notebook</a>'\n",
              "            + ' to learn more about interactive tables.';\n",
              "          element.innerHTML = '';\n",
              "          dataTable['output_type'] = 'display_data';\n",
              "          await google.colab.output.renderOutput(dataTable, element);\n",
              "          const docLink = document.createElement('div');\n",
              "          docLink.innerHTML = docLinkHtml;\n",
              "          element.appendChild(docLink);\n",
              "        }\n",
              "      </script>\n",
              "    </div>\n",
              "  </div>\n",
              "  "
            ]
          },
          "metadata": {},
          "execution_count": 53
        }
      ]
    },
    {
      "cell_type": "markdown",
      "source": [
        "It can be seen that kMeans does not distinguish activities very well. \n",
        "\n",
        "For example: Suppose there are 1722 walking activities. But those 1722 get splitted into multiple clusters rather than a single cluster of walking. Similarly for the rest of the activities. The clusters created are not disjoint. "
      ],
      "metadata": {
        "id": "UIiyewehdXMh"
      }
    },
    {
      "cell_type": "markdown",
      "source": [
        "Similar to classification and regression metrics, we have some [clustering metrics](https://scikit-learn.org/stable/modules/classes.html#clustering-metrics) to evaluate performance.\n",
        "\n",
        "We wll explore one of them: [adjusted_rand_index (ARI)](https://scikit-learn.org/stable/modules/generated/sklearn.metrics.adjusted_rand_score.html)"
      ],
      "metadata": {
        "id": "iVrhTKiWh2B3"
      }
    },
    {
      "cell_type": "code",
      "source": [
        "from sklearn.metrics import adjusted_rand_score\n",
        "\n",
        "# code to compute ARI for our KMeans clusters\n",
        "ars = adjusted_rand_score(y, cluster_labels)\n",
        "ars"
      ],
      "metadata": {
        "id": "Iu_3hI3Gh02I",
        "colab": {
          "base_uri": "https://localhost:8080/"
        },
        "outputId": "1a8769d5-2ef6-4707-deda-daf7e973d2c7"
      },
      "execution_count": 54,
      "outputs": [
        {
          "output_type": "execute_result",
          "data": {
            "text/plain": [
              "0.4198070012602345"
            ]
          },
          "metadata": {},
          "execution_count": 54
        }
      ]
    },
    {
      "cell_type": "markdown",
      "source": [
        "# **Optional Task:**\n"
      ],
      "metadata": {
        "id": "k1IFiDQYefEE"
      }
    },
    {
      "cell_type": "markdown",
      "source": [
        "**Only the below 4 cells are optional. Agglomerative Clustering is not optional.**"
      ],
      "metadata": {
        "id": "2nolF9dIpRQA"
      }
    },
    {
      "cell_type": "markdown",
      "source": [
        "Find optimal value of n_clusters for our KMeans model using the elbow method."
      ],
      "metadata": {
        "id": "5K5rFVF2plMq"
      }
    },
    {
      "cell_type": "markdown",
      "source": [
        "So, let's use the elbow method to select the optimal number of clusters. Parameters of the algorithm and the data we use are the same as before, we change only `n_clusters`.\n",
        "\n",
        "- Loop n_clusters from 1 to 7 and fit a KMeans model over X_pca each time.\n",
        "- Calculate inertia for each KMeans model and append it to a list. (Hint: inertia_list.append(np.sqrt(model_name.inertia_)) ) \n",
        "- Plot a line graph of inertia_list vs n_clusters value\n",
        "- The optimal n_clusters value is the point at which the graph changes it steepness drastically.\n",
        "- If everything is correct, you will find optimal n_clusters value to be 2 using elbow method."
      ],
      "metadata": {
        "id": "FBdMg8a7eJh8"
      }
    },
    {
      "cell_type": "code",
      "source": [
        "inertia_list = []\n",
        "for n_clusters in range(1, 8):\n",
        "  k_means = KMeans(n_clusters, n_init = 100, random_state = 17)\n",
        "  k_means.fit(X_pca)\n",
        "  inertia_list.append(np.sqrt(k_means.inertia_))\n",
        "print(inertia_list)"
      ],
      "metadata": {
        "id": "g5ov0ETtpxaP",
        "colab": {
          "base_uri": "https://localhost:8080/"
        },
        "outputId": "e7e27e2f-4f18-4d28-f80d-5bcfbf9f0058"
      },
      "execution_count": 55,
      "outputs": [
        {
          "output_type": "stream",
          "name": "stdout",
          "text": [
            "[2280.9554317530906, 1642.5366839830021, 1531.8045255008415, 1485.6418878723352, 1442.5620101068755, 1415.4345268912357, 1395.0814104520414]\n"
          ]
        }
      ]
    },
    {
      "cell_type": "code",
      "source": [
        "n_clusters_list = [1, 2, 3, 4, 5, 6, 7]\n",
        "\n",
        "plt.figure(figsize = (10,7))\n",
        "plt.plot(inertia_list, n_clusters_list, marker = 'o', color = '#60806f')\n",
        "plt.show()"
      ],
      "metadata": {
        "colab": {
          "base_uri": "https://localhost:8080/",
          "height": 428
        },
        "id": "sgkPrDH52RZD",
        "outputId": "916a364a-50b3-40fb-f611-1d0d5a01d007"
      },
      "execution_count": 56,
      "outputs": [
        {
          "output_type": "display_data",
          "data": {
            "text/plain": [
              "<Figure size 720x504 with 1 Axes>"
            ],
            "image/png": "[encoded data removed]"
          },
          "metadata": {
            "needs_background": "light"
          }
        }
      ]
    },
    {
      "cell_type": "code",
      "source": [
        "k_means = KMeans(n_clusters, n_init = 10, random_state = 17)\n",
        "k_means.fit(X_pca)\n",
        "\n",
        "cluster_labels = k_means.labels_\n",
        "round(adjusted_rand_score(y, cluster_labels), 3)"
      ],
      "metadata": {
        "colab": {
          "base_uri": "https://localhost:8080/"
        },
        "id": "9qTq4iLMn4Ii",
        "outputId": "9a2acfc8-73a5-478c-a258-a83dff77bb09"
      },
      "execution_count": 57,
      "outputs": [
        {
          "output_type": "execute_result",
          "data": {
            "text/plain": [
              "0.436"
            ]
          },
          "metadata": {},
          "execution_count": 57
        }
      ]
    },
    {
      "cell_type": "markdown",
      "source": [
        "So we see that KMeans clustering does not work well for our dataset. So let's try Agglomerative Clustering."
      ],
      "metadata": {
        "id": "_W6UZ2TigrfP"
      }
    },
    {
      "cell_type": "markdown",
      "source": [
        "# **Agglomerative (Heirarichal clustering)**"
      ],
      "metadata": {
        "id": "7Wco2intlecT"
      }
    },
    {
      "cell_type": "markdown",
      "source": [
        "Ref.: https://scikit-learn.org/stable/modules/generated/sklearn.cluster.AgglomerativeClustering.html"
      ],
      "metadata": {
        "id": "OwygcjyVu7B7"
      }
    },
    {
      "cell_type": "code",
      "source": [
        "from sklearn.cluster import AgglomerativeClustering"
      ],
      "metadata": {
        "id": "D7l3SXDRCNOl"
      },
      "execution_count": 58,
      "outputs": []
    },
    {
      "cell_type": "markdown",
      "source": [
        " Create an instance of AgglomerativeClustering() and fit it over X_pca.\n",
        " \n",
        " NOTE: specify n_clusters equal to n_classes\n"
      ],
      "metadata": {
        "id": "X8iLDwAbmL-E"
      }
    },
    {
      "cell_type": "code",
      "source": [
        "ag = AgglomerativeClustering(n_clusters = n_classes)\n",
        "ag.fit(X_pca)"
      ],
      "metadata": {
        "id": "J1ltnpvXl4MI",
        "colab": {
          "base_uri": "https://localhost:8080/"
        },
        "outputId": "87c38727-2198-4e82-a471-a6cdbf51d6f0"
      },
      "execution_count": 59,
      "outputs": [
        {
          "output_type": "execute_result",
          "data": {
            "text/plain": [
              "AgglomerativeClustering(n_clusters=6)"
            ]
          },
          "metadata": {},
          "execution_count": 59
        }
      ]
    },
    {
      "cell_type": "markdown",
      "source": [
        "Visualize the clusters"
      ],
      "metadata": {
        "id": "2umHCxW2CYty"
      }
    },
    {
      "cell_type": "code",
      "source": [
        "plt.figure(figsize = (10, 7))\n",
        "plt.scatter(X_pca[:, 0], X_pca[:, 1], c=ag.labels_,cmap='viridis');"
      ],
      "metadata": {
        "id": "fTW68vLzB-NX",
        "colab": {
          "base_uri": "https://localhost:8080/",
          "height": 428
        },
        "outputId": "ea5906b3-9998-4bd4-b9c1-e17bd410a842"
      },
      "execution_count": 60,
      "outputs": [
        {
          "output_type": "display_data",
          "data": {
            "text/plain": [
              "<Figure size 720x504 with 1 Axes>"
            ],
            "image/png": "[encoded data removed]"
          },
          "metadata": {
            "needs_background": "light"
          }
        }
      ]
    },
    {
      "cell_type": "markdown",
      "source": [
        "Now look at the correspondence between the cluster marks and the original class labels and what kinds of activities the Agglomerative algorithm is confused at."
      ],
      "metadata": {
        "id": "DDAmEvOyCa-X"
      }
    },
    {
      "cell_type": "code",
      "source": [
        "cluster_labels = ag.labels_\n",
        "pd.crosstab(cluster_labels, y, margins=True, margins_name=\"Total\")"
      ],
      "metadata": {
        "colab": {
          "base_uri": "https://localhost:8080/",
          "height": 300
        },
        "id": "oL36j7P-qCIr",
        "outputId": "4c6c589a-ee1d-43f5-d439-3168f55d6dca"
      },
      "execution_count": 61,
      "outputs": [
        {
          "output_type": "execute_result",
          "data": {
            "text/plain": [
              "col_0     1     2     3     4     5     6  Total\n",
              "row_0                                           \n",
              "0       800   337  1144     0     0     0   2281\n",
              "1         0     0     0  1559  1832    74   3465\n",
              "2       896  1207   138     0     0     0   2241\n",
              "3        26     0   124     0     0     0    150\n",
              "4         0     0     0    71     0  1604   1675\n",
              "5         0     0     0   147    74   266    487\n",
              "Total  1722  1544  1406  1777  1906  1944  10299"
            ],
            "text/html": [
              "\n",
              "  <div id=\"df-64ef50cc-6d83-4b20-ba33-1c2f068157fe\">\n",
              "    <div class=\"colab-df-container\">\n",
              "      <div>\n",
              "<style scoped>\n",
              "    .dataframe tbody tr th:only-of-type {\n",
              "        vertical-align: middle;\n",
              "    }\n",
              "\n",
              "    .dataframe tbody tr th {\n",
              "        vertical-align: top;\n",
              "    }\n",
              "\n",
              "    .dataframe thead th {\n",
              "        text-align: right;\n",
              "    }\n",
              "</style>\n",
              "<table border=\"1\" class=\"dataframe\">\n",
              "  <thead>\n",
              "    <tr style=\"text-align: right;\">\n",
              "      <th>col_0</th>\n",
              "      <th>1</th>\n",
              "      <th>2</th>\n",
              "      <th>3</th>\n",
              "      <th>4</th>\n",
              "      <th>5</th>\n",
              "      <th>6</th>\n",
              "      <th>Total</th>\n",
              "    </tr>\n",
              "    <tr>\n",
              "      <th>row_0</th>\n",
              "      <th></th>\n",
              "      <th></th>\n",
              "      <th></th>\n",
              "      <th></th>\n",
              "      <th></th>\n",
              "      <th></th>\n",
              "      <th></th>\n",
              "    </tr>\n",
              "  </thead>\n",
              "  <tbody>\n",
              "    <tr>\n",
              "      <th>0</th>\n",
              "      <td>800</td>\n",
              "      <td>337</td>\n",
              "      <td>1144</td>\n",
              "      <td>0</td>\n",
              "      <td>0</td>\n",
              "      <td>0</td>\n",
              "      <td>2281</td>\n",
              "    </tr>\n",
              "    <tr>\n",
              "      <th>1</th>\n",
              "      <td>0</td>\n",
              "      <td>0</td>\n",
              "      <td>0</td>\n",
              "      <td>1559</td>\n",
              "      <td>1832</td>\n",
              "      <td>74</td>\n",
              "      <td>3465</td>\n",
              "    </tr>\n",
              "    <tr>\n",
              "      <th>2</th>\n",
              "      <td>896</td>\n",
              "      <td>1207</td>\n",
              "      <td>138</td>\n",
              "      <td>0</td>\n",
              "      <td>0</td>\n",
              "      <td>0</td>\n",
              "      <td>2241</td>\n",
              "    </tr>\n",
              "    <tr>\n",
              "      <th>3</th>\n",
              "      <td>26</td>\n",
              "      <td>0</td>\n",
              "      <td>124</td>\n",
              "      <td>0</td>\n",
              "      <td>0</td>\n",
              "      <td>0</td>\n",
              "      <td>150</td>\n",
              "    </tr>\n",
              "    <tr>\n",
              "      <th>4</th>\n",
              "      <td>0</td>\n",
              "      <td>0</td>\n",
              "      <td>0</td>\n",
              "      <td>71</td>\n",
              "      <td>0</td>\n",
              "      <td>1604</td>\n",
              "      <td>1675</td>\n",
              "    </tr>\n",
              "    <tr>\n",
              "      <th>5</th>\n",
              "      <td>0</td>\n",
              "      <td>0</td>\n",
              "      <td>0</td>\n",
              "      <td>147</td>\n",
              "      <td>74</td>\n",
              "      <td>266</td>\n",
              "      <td>487</td>\n",
              "    </tr>\n",
              "    <tr>\n",
              "      <th>Total</th>\n",
              "      <td>1722</td>\n",
              "      <td>1544</td>\n",
              "      <td>1406</td>\n",
              "      <td>1777</td>\n",
              "      <td>1906</td>\n",
              "      <td>1944</td>\n",
              "      <td>10299</td>\n",
              "    </tr>\n",
              "  </tbody>\n",
              "</table>\n",
              "</div>\n",
              "      <button class=\"colab-df-convert\" onclick=\"convertToInteractive('df-64ef50cc-6d83-4b20-ba33-1c2f068157fe')\"\n",
              "              title=\"Convert this dataframe to an interactive table.\"\n",
              "              style=\"display:none;\">\n",
              "        \n",
              "  <svg xmlns=\"http://www.w3.org/2000/svg\" height=\"24px\"viewBox=\"0 0 24 24\"\n",
              "       width=\"24px\">\n",
              "    <path d=\"M0 0h24v24H0V0z\" fill=\"none\"/>\n",
              "    <path d=\"M18.56 5.44l.94 2.06.94-2.06 2.06-.94-2.06-.94-.94-2.06-.94 2.06-2.06.94zm-11 1L8.5 8.5l.94-2.06 2.06-.94-2.06-.94L8.5 2.5l-.94 2.06-2.06.94zm10 10l.94 2.06.94-2.06 2.06-.94-2.06-.94-.94-2.06-.94 2.06-2.06.94z\"/><path d=\"M17.41 7.96l-1.37-1.37c-.4-.4-.92-.59-1.43-.59-.52 0-1.04.2-1.43.59L10.3 9.45l-7.72 7.72c-.78.78-.78 2.05 0 2.83L4 21.41c.39.39.9.59 1.41.59.51 0 1.02-.2 1.41-.59l7.78-7.78 2.81-2.81c.8-.78.8-2.07 0-2.86zM5.41 20L4 18.59l7.72-7.72 1.47 1.35L5.41 20z\"/>\n",
              "  </svg>\n",
              "      </button>\n",
              "      \n",
              "  <style>\n",
              "    .colab-df-container {\n",
              "      display:flex;\n",
              "      flex-wrap:wrap;\n",
              "      gap: 12px;\n",
              "    }\n",
              "\n",
              "    .colab-df-convert {\n",
              "      background-color: #E8F0FE;\n",
              "      border: none;\n",
              "      border-radius: 50%;\n",
              "      cursor: pointer;\n",
              "      display: none;\n",
              "      fill: #1967D2;\n",
              "      height: 32px;\n",
              "      padding: 0 0 0 0;\n",
              "      width: 32px;\n",
              "    }\n",
              "\n",
              "    .colab-df-convert:hover {\n",
              "      background-color: #E2EBFA;\n",
              "      box-shadow: 0px 1px 2px rgba(60, 64, 67, 0.3), 0px 1px 3px 1px rgba(60, 64, 67, 0.15);\n",
              "      fill: #174EA6;\n",
              "    }\n",
              "\n",
              "    [theme=dark] .colab-df-convert {\n",
              "      background-color: #3B4455;\n",
              "      fill: #D2E3FC;\n",
              "    }\n",
              "\n",
              "    [theme=dark] .colab-df-convert:hover {\n",
              "      background-color: #434B5C;\n",
              "      box-shadow: 0px 1px 3px 1px rgba(0, 0, 0, 0.15);\n",
              "      filter: drop-shadow(0px 1px 2px rgba(0, 0, 0, 0.3));\n",
              "      fill: #FFFFFF;\n",
              "    }\n",
              "  </style>\n",
              "\n",
              "      <script>\n",
              "        const buttonEl =\n",
              "          document.querySelector('#df-64ef50cc-6d83-4b20-ba33-1c2f068157fe button.colab-df-convert');\n",
              "        buttonEl.style.display =\n",
              "          google.colab.kernel.accessAllowed ? 'block' : 'none';\n",
              "\n",
              "        async function convertToInteractive(key) {\n",
              "          const element = document.querySelector('#df-64ef50cc-6d83-4b20-ba33-1c2f068157fe');\n",
              "          const dataTable =\n",
              "            await google.colab.kernel.invokeFunction('convertToInteractive',\n",
              "                                                     [key], {});\n",
              "          if (!dataTable) return;\n",
              "\n",
              "          const docLinkHtml = 'Like what you see? Visit the ' +\n",
              "            '<a target=\"_blank\" href=https://colab.research.google.com/notebooks/data_table.ipynb>data table notebook</a>'\n",
              "            + ' to learn more about interactive tables.';\n",
              "          element.innerHTML = '';\n",
              "          dataTable['output_type'] = 'display_data';\n",
              "          await google.colab.output.renderOutput(dataTable, element);\n",
              "          const docLink = document.createElement('div');\n",
              "          docLink.innerHTML = docLinkHtml;\n",
              "          element.appendChild(docLink);\n",
              "        }\n",
              "      </script>\n",
              "    </div>\n",
              "  </div>\n",
              "  "
            ]
          },
          "metadata": {},
          "execution_count": 61
        }
      ]
    },
    {
      "cell_type": "markdown",
      "source": [
        "Similar to KMeans, calculate adjusted_rand_index (ARI) for Agglomerative Clustering"
      ],
      "metadata": {
        "id": "P00Ypj7Gn-MV"
      }
    },
    {
      "cell_type": "code",
      "source": [
        "round(adjusted_rand_score(y, cluster_labels), 3)"
      ],
      "metadata": {
        "id": "P4-FYp4sn93d",
        "colab": {
          "base_uri": "https://localhost:8080/"
        },
        "outputId": "fab05cdc-77d6-45a4-e900-8b1fe6c19311"
      },
      "execution_count": 62,
      "outputs": [
        {
          "output_type": "execute_result",
          "data": {
            "text/plain": [
              "0.494"
            ]
          },
          "metadata": {},
          "execution_count": 62
        }
      ]
    },
    {
      "cell_type": "markdown",
      "source": [
        "Play with other hyperparameters for Agglomerative clustering like linkage, affinity, etc. Try to acheive maximum ARI.\n",
        "\n",
        "Method: Tune the hyperparameters and select the hyperparameter set where ARI is maximum."
      ],
      "metadata": {
        "id": "GWTptPlnn_TG"
      }
    },
    {
      "cell_type": "code",
      "source": [
        "affinity = ['euclidean', 'l1', 'l2', 'manhattan', 'cosine']\n",
        "linkage = ['complete', 'average', 'single']"
      ],
      "metadata": {
        "id": "CkHXOVA1gfU_"
      },
      "execution_count": 63,
      "outputs": []
    },
    {
      "cell_type": "code",
      "source": [
        "lin_list = []\n",
        "\n",
        "for i in linkage:\n",
        "  ag_ = AgglomerativeClustering(n_clusters = n_classes, linkage= i)\n",
        "  ag_.fit(X_pca)\n",
        "  cluster_labels = ag_.labels_\n",
        "  lin_list.append(round(adjusted_rand_score(y, cluster_labels), 3))\n",
        "\n",
        "plt.figure(figsize = (10,7))\n",
        "plt.plot(linkage, lin_list, marker = 'o', color = '#60806f')\n",
        "plt.show()"
      ],
      "metadata": {
        "id": "y3D7k4uUoTh0",
        "colab": {
          "base_uri": "https://localhost:8080/",
          "height": 428
        },
        "outputId": "801bd07d-5990-478c-c912-59f8e042d946"
      },
      "execution_count": 64,
      "outputs": [
        {
          "output_type": "display_data",
          "data": {
            "text/plain": [
              "<Figure size 720x504 with 1 Axes>"
            ],
            "image/png": "[encoded data removed]"
          },
          "metadata": {
            "needs_background": "light"
          }
        }
      ]
    },
    {
      "cell_type": "code",
      "source": [
        "aff_list = []\n",
        "for i in affinity:\n",
        "  ag_ = AgglomerativeClustering(n_clusters = n_classes, linkage= 'complete', affinity = i)\n",
        "  ag_.fit(X_pca)\n",
        "  cluster_labels = ag_.labels_\n",
        "  aff_list.append(round(adjusted_rand_score(y, cluster_labels), 3))\n",
        "\n",
        "plt.figure(figsize = (10,7))\n",
        "plt.plot(affinity, aff_list, marker = 'o', color = '#60806f')\n",
        "plt.show()"
      ],
      "metadata": {
        "colab": {
          "base_uri": "https://localhost:8080/",
          "height": 428
        },
        "id": "W_xcHCN4j1f_",
        "outputId": "2649049b-4e1f-417b-a021-c8647df98af5"
      },
      "execution_count": 65,
      "outputs": [
        {
          "output_type": "display_data",
          "data": {
            "text/plain": [
              "<Figure size 720x504 with 1 Axes>"
            ],
            "image/png": "[encoded data removed]"
          },
          "metadata": {
            "needs_background": "light"
          }
        }
      ]
    },
    {
      "cell_type": "code",
      "source": [
        "ag_ = AgglomerativeClustering(n_clusters = n_classes, linkage= 'complete', affinity = 'cosine')\n",
        "ag_.fit(X_pca)\n",
        "cluster_labels = ag_.labels_\n",
        "round(adjusted_rand_score(y, cluster_labels), 3)\n",
        "\n",
        "# Therefore, linkage and affinity at their default values(euclidean and ward), give better results"
      ],
      "metadata": {
        "colab": {
          "base_uri": "https://localhost:8080/"
        },
        "id": "4Jl_-SFFkfqp",
        "outputId": "920d1577-6c28-4336-cbf4-08687d6b2fae"
      },
      "execution_count": 66,
      "outputs": [
        {
          "output_type": "execute_result",
          "data": {
            "text/plain": [
              "0.356"
            ]
          },
          "metadata": {},
          "execution_count": 66
        }
      ]
    },
    {
      "cell_type": "markdown",
      "source": [
        "**Conclusion**\n",
        "\n",
        "Compare ARI values of KMeans and Agglomerative Clustering. Mention below which one is better among the two. Also, specify reasons to support your claim"
      ],
      "metadata": {
        "id": "x4G_PRXwqP7I"
      }
    },
    {
      "cell_type": "markdown",
      "source": [
        "ARI value of KMeans = **0.436**\n",
        "\n",
        "ARI value of Agglomerative Clustering = **0.494**\n",
        "\n",
        "This shows that Agglomerative Clustering is better than KMeans. KMeans can  sometimes be unpredictable, because even if we know and define the number of clusters, the initialized positions highly affect the cluster formation. But agglomerative  clustering is totally independent of any other variables, as it is only dependent on the distance between any two points."
      ],
      "metadata": {
        "id": "4jhaI8bX8Q2Z"
      }
    },
    {
      "cell_type": "markdown",
      "source": [
        "# **Bonus: To be done only if you have completed the above tasks.**"
      ],
      "metadata": {
        "id": "ELzen5eh8s23"
      }
    },
    {
      "cell_type": "markdown",
      "source": [
        "You can research and create a short blog on the topic of **DB-SCAN Clustering Algortihm**. The best research will be edited and featured on the Synapse Instagram page. Happy coding! :)"
      ],
      "metadata": {
        "id": "xmUVEvjj822I"
      }
    },
    {
      "cell_type": "markdown",
      "source": [
        "**DBSCAN**- Density Based Spatial Clustering of Applications with Noise.\n",
        "\n",
        "It is a density-based clustering non-parametric algorithm. Given a set of points in some space, it groups together points that are closely packed together (points with many nearby neighbours), marking as outliers points that lie alone in low-density regions (whose nearest neighbours are too far away).\n",
        "It is a very useful algorithm, and in my opinion, it is better than other clustering algorithms because it isn’t confined to a specific shape. For the data sets that are as vast and unpredictable, DBSCAN can perform better.\n",
        "Another big advantage is the exclusion of outliers by rightly characterizing them as noise. In the given dataset, there will definitely be a lot of randomness, and if it is tried to be included in the clusters, can bring a lot of deviation from the required goal. In fact, here the number of clusters  don't need to be specified too, as the clusters are made based on the hyper-parameters.\n",
        "\n",
        "There are 2 basic hyper-parameters in DBSCAN:\n",
        "1.\t**Epsilon(ε)**:\n",
        "It defines the distance from the point in question (say ‘P’) to any point in its vicinity (say ‘Q’), in order to determine if point ‘Q’ is a neighbour of ‘P’.\n",
        "It basically gives the radius of the circle in which, if point ‘Q’ lies, it becomes a neighbour.\n",
        "The value of ‘ε’ needs to be chosen very carefully, as if it is too large, then most of the points will be labelled as the ‘neighbour’, and the number of clusters will reduce. However, if it is too small, then a large number of points will not be able to have a neighbour in their vicinity, and will become outliers.\n",
        "2.\t**MinPts**:\n",
        "It gives the minimum number of points which neighbour the given data point ‘P’ within a radius of ‘ε’ (epsilon). \n",
        "This value, too, needs to be chosen carefully. If this is too small, then the boundary of the cluster will change, and the data points which are supposed to be outliers may change. In fact, if the clusters are close, then it might even merge.\n",
        "However, if it is too large, it might limit the capacity of the cluster to hold enough data points. The number of clusters present will then increase drastically.\n",
        "\n",
        "Based on these 2 hyper-parameters, there are 3 types of data-points:\n",
        "1.\t**Core point** (labelled ‘A’ in the diagram):\n",
        "It is a point which has atleast ‘MinPts’ number of data points in its vicinity (a circle with the radius of ‘ε’).\n",
        "2.\t**Border point** (labelled ‘B’ and ‘C’ in the diagram):\n",
        "It is a point which has atleast 1 core point in its vicinity, but less than the ‘MinPts’ number of points.\n",
        "3.\t**Noise point** (labelled ‘N’ in the diagram):\n",
        "It is a point which doesn’t have any data point in its vicinity.\n",
        "\n",
        "The algorithm first identifies the core points with the given values of ‘ε’ and ‘MinPts’. \n",
        "It then takes any one core point (say ‘A’) and assigns it a new cluster. Any other core points in its neighbourhood are assigned to the same cluster. This process goes on till all the core points connected in chain with the original point ‘A’ are assigned the same cluster. \n",
        "Next, the border points having a core point of the cluster in its neighbourhood is assigned to the cluster.\n",
        "The algorithm then goes on to start this process with another core point to form a new cluster. Once all the clusters are formed, the remaining data points are noise points."
      ],
      "metadata": {
        "id": "1KRRoNoJEi7y"
      }
    },
    {
      "cell_type": "markdown",
      "source": [
        "![DBSCAN diagram.png](data:image/png;base64,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)"
      ],
      "metadata": {
        "id": "8B7qT44mFdeX"
      }
    },
    {
      "cell_type": "markdown",
      "source": [
        "# **End of Task**\n",
        "\n",
        "> ©DJS Synapse 2022 - 2023"
      ],
      "metadata": {
        "id": "YXcu6k19qWK5"
      }
    }
  ]
}